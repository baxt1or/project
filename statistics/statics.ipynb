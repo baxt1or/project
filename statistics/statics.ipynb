{
 "cells": [
  {
   "cell_type": "code",
   "execution_count": 2,
   "metadata": {},
   "outputs": [],
   "source": [
    "import numpy as np\n",
    "import pandas as pd"
   ]
  },
  {
   "cell_type": "code",
   "execution_count": 4,
   "metadata": {},
   "outputs": [
    {
     "data": {
      "text/plain": [
       "0.22256353501725765"
      ]
     },
     "execution_count": 4,
     "metadata": {},
     "output_type": "execute_result"
    }
   ],
   "source": [
    "def normal_distribution(sample: list[float], x: float) -> float:\n",
    "    mean = np.mean(sample)\n",
    "    var = np.var(sample)  # Variance\n",
    "\n",
    "    # Calculate the constant part\n",
    "    res = 1 / np.sqrt(2 * np.pi * var)\n",
    "\n",
    "    # Calculate the exponent part, with the correct formula\n",
    "    power = np.power((x - mean), 2) / (2 * var)  #\n",
    "\n",
    "    # Apply the exponential\n",
    "    r = np.exp(-power)\n",
    "\n",
    "    return res * r\n",
    "\n",
    "\n",
    "sample_data = [1.2, 2.3, 2.8, 3.0, 3.4, 4.1, 5.2, 5.5, 6.3, 7.1]\n",
    "\n",
    "# Point to evaluate\n",
    "random_value = 4.0\n",
    "\n",
    "normal_distribution(sample=sample_data, x=random_value)\n",
    "\n"
   ]
  },
  {
   "cell_type": "code",
   "execution_count": 6,
   "metadata": {},
   "outputs": [
    {
     "data": {
      "text/plain": [
       "0.1171875"
      ]
     },
     "execution_count": 6,
     "metadata": {},
     "output_type": "execute_result"
    }
   ],
   "source": [
    "import math\n",
    "\n",
    "def bionomial_distribution(k:int, n:int, p:float):\n",
    "\n",
    "    bio_coefficient = math.factorial(n) / (math.factorial(k) * math.factorial(n-k))\n",
    "\n",
    "    return bio_coefficient * math.pow(p, k) * math.pow((1-p),n-k)\n",
    "\n",
    "\n",
    "n_trials = 10   \n",
    "k_success = 3    \n",
    "p_success = 0.5\n",
    "\n",
    "bionomial_distribution(n=n_trials, k=k_success, p=p_success)\n"
   ]
  },
  {
   "cell_type": "code",
   "execution_count": 10,
   "metadata": {},
   "outputs": [
    {
     "data": {
      "text/plain": [
       "0.25"
      ]
     },
     "execution_count": 10,
     "metadata": {},
     "output_type": "execute_result"
    }
   ],
   "source": [
    "def uniform_distribution(sample: list[float], a: float, b: float) -> float:\n",
    "   \n",
    "    if a >= b:\n",
    "        raise ValueError(\"Lower bound 'a' must be less than upper bound 'b'\")\n",
    "\n",
    "    for x in sample:\n",
    "        if not (a <= x <= b):\n",
    "            return 0  \n",
    "  \n",
    "    return 1 / (b - a)\n",
    "\n",
    "\n",
    "sample = [2.5, 3.0, 4.5, 5.0]\n",
    "a = 2.0\n",
    "b = 6.0\n",
    "uniform_distribution(sample=sample, a=a,b=b)"
   ]
  },
  {
   "cell_type": "code",
   "execution_count": 13,
   "metadata": {},
   "outputs": [
    {
     "name": "stdout",
     "output_type": "stream",
     "text": [
      "['Gold Medal', 'Silver Medal', 'Bronze Medal', '4', '5']\n"
     ]
    }
   ],
   "source": [
    "from typing import List\n",
    "\n",
    "class Solution:\n",
    "    def findRelativeRanks(self, score: List[int]) -> List[str]:\n",
    "        sra = sorted(score, reverse=True)\n",
    "\n",
    "        count = {}\n",
    "\n",
    "        for i in range(len(sra)):\n",
    "            if i == 0:\n",
    "                count[sra[i]] = \"Gold Medal\"\n",
    "            elif i == 1:\n",
    "                count[sra[i]] = \"Silver Medal\"\n",
    "            elif i == 2:\n",
    "                count[sra[i]] = \"Bronze Medal\"\n",
    "            else:\n",
    "                count[sra[i]] = str(i+1)\n",
    "        \n",
    "\n",
    "        res = []\n",
    "        for i in count:\n",
    "            res.append(count[i])\n",
    "        return res\n",
    "\n",
    "\n",
    "score = [10,3,8,9,4]\n",
    "# Output: [\"Gold Medal\",\"Silver Medal\",\"Bronze Medal\",\"4\",\"5\"]\n",
    "\n",
    "sol = Solution()\n",
    "print(sol.findRelativeRanks(score=score))"
   ]
  },
  {
   "cell_type": "code",
   "execution_count": 25,
   "metadata": {},
   "outputs": [
    {
     "data": {
      "text/plain": [
       "[0]"
      ]
     },
     "execution_count": 25,
     "metadata": {},
     "output_type": "execute_result"
    }
   ],
   "source": [
    "from typing import List\n",
    "\n",
    "class Solution:\n",
    "    def topKFrequent(self, nums: List[int], k: int) -> List[int]:\n",
    "        \"\"\"\n",
    "           Algorithms for getting top K frequent elements from an array\n",
    "\n",
    "        Args:\n",
    "            nums (List[int]): _description_\n",
    "            k (int): _description_\n",
    "\n",
    "        Returns:\n",
    "            List[int]: _description_\n",
    "        \"\"\"\n",
    "        count = {}\n",
    "        for num in nums:\n",
    "            count[num] = count.get(num, 0)  +1\n",
    "\n",
    "        sorted_count = dict(sorted(count.items(), key=lambda x:x[1], reverse=True))\n",
    "        res = []\n",
    "        for key  in sorted_count.keys():\n",
    "            res.append(key)\n",
    "        \n",
    "        return res[:k]\n",
    "    \n",
    "sol: List[int] = Solution().topKFrequent(nums=[3,0,1,0], k=1)\n",
    "sol\n",
    "\n"
   ]
  },
  {
   "cell_type": "code",
   "execution_count": 34,
   "metadata": {},
   "outputs": [
    {
     "data": {
      "text/plain": [
       "18"
      ]
     },
     "execution_count": 34,
     "metadata": {},
     "output_type": "execute_result"
    }
   ],
   "source": [
    "class Solution:\n",
    "    def maximizeSum(self, nums: List[int], k: int) -> int:\n",
    "        \n",
    "        \"\"\"_summary_\n",
    "\n",
    "        Returns:\n",
    "            _type_: _description_\n",
    "        \"\"\"\n",
    "\n",
    "        nums.sort(reverse=True)\n",
    "        maxElement=nums[0]\n",
    "        count=0\n",
    "        for i in range(k):\n",
    "            count+=maxElement\n",
    "            maxElement+=1\n",
    "        return count\n",
    "\n",
    "\n",
    "nums = [1,2,3,4,5]\n",
    "k = 3   \n",
    "\n",
    "Solution().maximizeSum(nums=nums, k=k)"
   ]
  },
  {
   "cell_type": "code",
   "execution_count": 56,
   "metadata": {},
   "outputs": [],
   "source": [
    "def factorial(n:int)-> int:\n",
    "\n",
    "    if n == 0:\n",
    "        return 1\n",
    "    return n*factorial(n-1)\n",
    "\n",
    "def factorials(n:int) -> int:\n",
    "    if n == 0:\n",
    "        return 1\n",
    "    fac =1\n",
    "    for n in range(1, n+1):\n",
    "        fac *=n\n",
    "    return fac\n"
   ]
  },
  {
   "cell_type": "code",
   "execution_count": 87,
   "metadata": {},
   "outputs": [
    {
     "data": {
      "text/plain": [
       "[10, 10, 10]"
      ]
     },
     "execution_count": 87,
     "metadata": {},
     "output_type": "execute_result"
    }
   ],
   "source": [
    "def func(data=[]) -> list[int]:\n",
    "    data.append(10)\n",
    "    return data\n",
    "\n",
    "func()\n",
    "func()\n",
    "func()"
   ]
  },
  {
   "cell_type": "code",
   "execution_count": 97,
   "metadata": {},
   "outputs": [
    {
     "name": "stdout",
     "output_type": "stream",
     "text": [
      "200\n"
     ]
    }
   ],
   "source": [
    "\n",
    "def func(num:int):\n",
    "    return num **2\n",
    "\n",
    "print(func(10) + func(10))"
   ]
  }
 ],
 "metadata": {
  "kernelspec": {
   "display_name": "Python 3",
   "language": "python",
   "name": "python3"
  },
  "language_info": {
   "codemirror_mode": {
    "name": "ipython",
    "version": 3
   },
   "file_extension": ".py",
   "mimetype": "text/x-python",
   "name": "python",
   "nbconvert_exporter": "python",
   "pygments_lexer": "ipython3",
   "version": "3.12.4"
  }
 },
 "nbformat": 4,
 "nbformat_minor": 2
}
